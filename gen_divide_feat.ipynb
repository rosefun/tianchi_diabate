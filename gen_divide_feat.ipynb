{
 "cells": [
  {
   "cell_type": "code",
   "execution_count": 1,
   "metadata": {
    "collapsed": true
   },
   "outputs": [],
   "source": [
    "import time\n",
    "import datetime\n",
    "import numpy as np\n",
    "import pandas as pd\n",
    "import lightgbm as lgb\n",
    "from dateutil.parser import parse\n",
    "from sklearn.model_selection import train_test_split\n",
    "from sklearn.metrics import mean_squared_error\n",
    "from sklearn.model_selection import GridSearchCV\n",
    "try:\n",
    "    import matplotlib.pyplot as plt\n",
    "except ImportError:\n",
    "    raise ImportError('You need to install matplotlib for plot_example.py.')"
   ]
  },
  {
   "cell_type": "code",
   "execution_count": 9,
   "metadata": {
    "collapsed": true
   },
   "outputs": [],
   "source": [
    "data_path = 'D:/tianchi/diabate/'\n",
    "\n",
    "# train = pd.read_csv(data_path+'d_train_20180102.csv',encoding='gb2312')\n",
    "# test = pd.read_csv(data_path+'d_test_A_20180102.csv',encoding='gb2312')\n"
   ]
  },
  {
   "cell_type": "code",
   "execution_count": 3,
   "metadata": {},
   "outputs": [
    {
     "name": "stdout",
     "output_type": "stream",
     "text": [
      "14.7113 3.98\n"
     ]
    }
   ],
   "source": [
    "def make_train_set():\n",
    "    train = pd.read_csv(data_path+'d_train_20180102.csv',encoding='gb2312')\n",
    "    \n",
    "    \n",
    "    ulimit = np.percentile(train[u'血糖'].values, 99.5)\n",
    "    llimit = np.percentile(train[u'血糖'].values, 0.3)\n",
    "    print (ulimit, llimit)\n",
    "    train = train[train[u'血糖'] < ulimit]\n",
    "    train = train[train[u'血糖'] > llimit]\n",
    "    \n",
    "    \n",
    "    train['性别'] = train['性别'].map(lambda x: '男' if x not in ['男','女'] else x)\n",
    "    sex_dummy = pd.get_dummies(train[\"性别\"])\n",
    "    train = pd.concat([train, sex_dummy],axis=1)\n",
    "    \n",
    "    train = train.drop([\"id\",\"性别\",\"体检日期\"],axis=1)\n",
    "    \n",
    "    train.fillna(train.median(axis=0),inplace=True)\n",
    "    \n",
    "    tarin_y = train['血糖']\n",
    "    train_x = train.drop(['血糖'],axis=1)\n",
    "    \n",
    "    \n",
    "    \n",
    "    return train_x,tarin_y\n",
    "\n",
    "def make_test_set():\n",
    "    \n",
    "    test = pd.read_csv(data_path+'d_test_A_20180102.csv',encoding='gb2312')\n",
    "    test['性别'] = test['性别'].map(lambda x: '男' if x not in ['男','女'] else x)\n",
    "    sex_dummy = pd.get_dummies(test[\"性别\"])\n",
    "    test = pd.concat([test, sex_dummy],axis=1)\n",
    "    \n",
    "    test = test.drop([\"id\",\"性别\",\"体检日期\"],axis=1)\n",
    "    \n",
    "    test.fillna(test.median(axis=0),inplace=True)\n",
    "    \n",
    "    return test\n",
    "\n",
    "\n",
    "\n",
    "X_train, Y_train = make_train_set()\n",
    "X_test = make_test_set()\n",
    "columns = [f for f in X_train.columns]\n",
    "\n",
    "\n",
    "x_train, x_test, y_train, y_test = train_test_split(X_train.values, Y_train.values, test_size=0.2, random_state=100)    \n",
    "lgb_train = lgb.Dataset(x_train, y_train)"
   ]
  },
  {
   "cell_type": "code",
   "execution_count": 4,
   "metadata": {},
   "outputs": [
    {
     "name": "stdout",
     "output_type": "stream",
     "text": [
      "cv to find best num_boost_round\n",
      "[100]\tcv_agg's l2: 1.399 + 0.165395\n",
      "[200]\tcv_agg's l2: 1.3285 + 0.145669\n",
      "[300]\tcv_agg's l2: 1.29268 + 0.13581\n",
      "[400]\tcv_agg's l2: 1.27984 + 0.134741\n",
      "[500]\tcv_agg's l2: 1.27557 + 0.133367\n",
      "[600]\tcv_agg's l2: 1.27279 + 0.132348\n",
      "[700]\tcv_agg's l2: 1.27183 + 0.130014\n",
      "迭代: 671  CV: 1.2712622789\n"
     ]
    }
   ],
   "source": [
    "param = {\n",
    "    'boosting_type': 'gbdt',\n",
    "    'objective': 'regression',\n",
    "    'metric': 'l2',\n",
    "    'num_leaves': 12,\n",
    "    #'min_data_in_leaf': 5,\n",
    "    #'min_sum_hessian_in_leaf': 1e-3,\n",
    "    'learning_rate': 0.01,\n",
    "    'feature_fraction': 0.8,\n",
    "    'bagging_fraction': 0.8,\n",
    "    'bagging_freq': 10,\n",
    "    'reg_alpha': 0,\n",
    "    #'reg_lambda': 100,\n",
    "    'verbose': 0,\n",
    "    #'max_bin': 300,\n",
    "\n",
    "}\n",
    "print ('cv to find best num_boost_round')\n",
    "bst = lgb.cv(\n",
    "    param, lgb_train, num_boost_round=10000, nfold=10, stratified=False, shuffle=True,\n",
    "    early_stopping_rounds=100, verbose_eval=100, show_stdv=True, seed=100)\n",
    "\n",
    "print (u'迭代:', len(bst['l2-mean']), u' CV:', bst['l2-mean'][-1])"
   ]
  },
  {
   "cell_type": "code",
   "execution_count": 7,
   "metadata": {},
   "outputs": [
    {
     "name": "stdout",
     "output_type": "stream",
     "text": [
      "Plot feature importances...\n"
     ]
    },
    {
     "data": {
      "image/png": "[encoded data removed]",
      "text/plain": [
       "<matplotlib.figure.Figure at 0x20057e7c668>"
      ]
     },
     "metadata": {},
     "output_type": "display_data"
    },
    {
     "name": "stdout",
     "output_type": "stream",
     "text": [
      "Index(['年龄', '甘油三酯', '*天门冬氨酸氨基转换酶', '尿酸', '*r-谷氨酰基转换酶', '尿素', '*碱性磷酸酶',\n",
      "       '白细胞计数', '红细胞平均体积', '红细胞体积分布宽度', '*丙氨酸氨基转换酶', '红细胞平均血红蛋白浓度', '白蛋白',\n",
      "       '血小板平均体积', '血红蛋白', '总胆固醇', '高密度脂蛋白胆固醇', '乙肝核心抗体', '中性粒细胞%', '血小板计数'],\n",
      "      dtype='object')\n"
     ]
    }
   ],
   "source": [
    "# K折预测取平均\n",
    "gbm = lgb.train(params=param,\n",
    "                train_set=lgb_train,\n",
    "                num_boost_round=len(bst['l2-mean']),\n",
    "                )\n",
    "\n",
    "print('Plot feature importances...')\n",
    "ax = lgb.plot_importance(gbm, max_num_features=20)\n",
    "plt.show()\n",
    "\n",
    "feat_imp = pd.Series(gbm.feature_importance(), index=columns).sort_values(ascending=False)\n",
    "print(feat_imp.index[:20])\n",
    "\n",
    "\n",
    "###这是测试得到的top50 特征，测试代码已省\n",
    "top_columns = ['年龄/红细胞体积分布宽度', '尿素/高密度脂蛋白胆固醇', '红细胞平均体积/红细胞平均血红蛋白浓度', '红细胞体积分布宽度/血红蛋白',\n",
    "       '年龄/高密度脂蛋白胆固醇', '*天门冬氨酸氨基转换酶/总胆固醇', '红细胞体积分布宽度/血小板平均体积',\n",
    "       '总胆固醇/*天门冬氨酸氨基转换酶', '甘油三酯/尿酸', '红细胞平均体积/血小板平均体积',\n",
    "       '*丙氨酸氨基转换酶/*天门冬氨酸氨基转换酶', '白细胞计数/红细胞体积分布宽度', '年龄/血小板计数', '尿酸/血红蛋白',\n",
    "       '尿酸/*碱性磷酸酶', '甘油三酯/*天门冬氨酸氨基转换酶', '年龄/*天门冬氨酸氨基转换酶', '红细胞平均体积/乙肝核心抗体',\n",
    "       '红细胞体积分布宽度/年龄', '*碱性磷酸酶/红细胞平均体积', '*天门冬氨酸氨基转换酶/*丙氨酸氨基转换酶',\n",
    "       '红细胞平均血红蛋白浓度/红细胞平均体积', '红细胞体积分布宽度/总胆固醇', '红细胞平均体积/年龄', '白细胞计数/血小板计数',\n",
    "       '红细胞体积分布宽度/白蛋白', '红细胞平均体积/血红蛋白', '尿素/红细胞平均体积', '*碱性磷酸酶/高密度脂蛋白胆固醇',\n",
    "       '红细胞体积分布宽度/红细胞平均血红蛋白浓度', '甘油三酯/血小板计数', '尿酸/血小板平均体积', '尿素/红细胞体积分布宽度',\n",
    "       '*天门冬氨酸氨基转换酶/*碱性磷酸酶', '高密度脂蛋白胆固醇/年龄', '高密度脂蛋白胆固醇/中性粒细胞%',\n",
    "       '血红蛋白/高密度脂蛋白胆固醇', '白蛋白/血红蛋白', '*碱性磷酸酶/总胆固醇', '年龄/尿酸', '尿酸/白细胞计数',\n",
    "       '总胆固醇/年龄', '年龄/红细胞平均体积', '*天门冬氨酸氨基转换酶/白细胞计数', '红细胞体积分布宽度/白细胞计数',\n",
    "       '尿素/尿酸', '血红蛋白/红细胞平均体积', '血红蛋白/血小板计数', '尿酸/总胆固醇', '红细胞体积分布宽度/尿素']\n",
    "\n",
    "for i in feat_imp.index[:20]:\n",
    "    for j in feat_imp.index[:20] :\n",
    "        if j!=i:\n",
    "            divide = i+\"/\"+j\n",
    "            if divide in top_columns:\n",
    "                X_train[divide] = X_train[i]/X_train[j]\n",
    "                X_test[divide] = X_test[i]/X_test[j]\n",
    "                \n",
    "##是否保留原始特征\n",
    "# X_train  = X_train.drop(columns,axis=1)\n",
    "# X_test  = X_test.drop(columns,axis=1)\n",
    "\n",
    "\n",
    "train_divide = pd.concat([X_train, Y_train],axis=1)\n",
    "train_divide.to_csv('./train_divide.csv',index=False)\n",
    "X_test.to_csv('./test_divide.csv',index=False)\n",
    "\n",
    "\n"
   ]
  },
  {
   "cell_type": "code",
   "execution_count": null,
   "metadata": {
    "collapsed": true
   },
   "outputs": [],
   "source": []
  }
 ],
 "metadata": {
  "kernelspec": {
   "display_name": "Python 3",
   "language": "python",
   "name": "python3"
  },
  "language_info": {
   "codemirror_mode": {
    "name": "ipython",
    "version": 3
   },
   "file_extension": ".py",
   "mimetype": "text/x-python",
   "name": "python",
   "nbconvert_exporter": "python",
   "pygments_lexer": "ipython3",
   "version": "3.6.3"
  }
 },
 "nbformat": 4,
 "nbformat_minor": 2
}
